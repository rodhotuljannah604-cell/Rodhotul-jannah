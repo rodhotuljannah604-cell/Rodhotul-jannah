{
  "nbformat": 4,
  "nbformat_minor": 0,
  "metadata": {
    "colab": {
      "provenance": [],
      "include_colab_link": true
    },
    "kernelspec": {
      "name": "python3",
      "display_name": "Python 3"
    },
    "language_info": {
      "name": "python"
    }
  },
  "cells": [
    {
      "cell_type": "markdown",
      "metadata": {
        "id": "view-in-github",
        "colab_type": "text"
      },
      "source": [
        "<a href=\"https://colab.research.google.com/github/rodhotuljannah604-cell/Rodhotul-jannah/blob/main/fungsi_print_rodhotul_jannah_X_5.ipynb\" target=\"_parent\"><img src=\"https://colab.research.google.com/assets/colab-badge.svg\" alt=\"Open In Colab\"/></a>"
      ]
    },
    {
      "cell_type": "markdown",
      "source": [],
      "metadata": {
        "id": "S7spOfcPgqqK"
      }
    },
    {
      "cell_type": "markdown",
      "source": [],
      "metadata": {
        "id": "iLW1x7n6g1MS"
      }
    },
    {
      "cell_type": "markdown",
      "source": [
        "#1.menampilkan teks bebas"
      ],
      "metadata": {
        "id": "BLVRL2Y2h0xr"
      }
    },
    {
      "cell_type": "code",
      "source": [
        "print(\"hello world\")"
      ],
      "metadata": {
        "colab": {
          "base_uri": "https://localhost:8080/"
        },
        "id": "ntecQjNyiWJU",
        "outputId": "31052d56-0118-4254-cd41-4f7963bd0cdb"
      },
      "execution_count": null,
      "outputs": [
        {
          "output_type": "stream",
          "name": "stdout",
          "text": [
            "hello world\n"
          ]
        }
      ]
    },
    {
      "cell_type": "code",
      "source": [
        "print(\"Rodhotul jannah\")"
      ],
      "metadata": {
        "colab": {
          "base_uri": "https://localhost:8080/"
        },
        "id": "zKVo8trUiloR",
        "outputId": "7156847e-74e5-47fe-8bd8-921a31063974"
      },
      "execution_count": null,
      "outputs": [
        {
          "output_type": "stream",
          "name": "stdout",
          "text": [
            "Rodhotul jannah\n"
          ]
        }
      ]
    },
    {
      "cell_type": "markdown",
      "source": [
        "#2.menampilkan nilai variabel"
      ],
      "metadata": {
        "id": "aQ6qVlcTkY-D"
      }
    },
    {
      "cell_type": "code",
      "source": [
        "Nama = \"rodhotul jannah\"\n",
        "print(Nama)"
      ],
      "metadata": {
        "id": "6FmSXN8Lnsp1",
        "colab": {
          "base_uri": "https://localhost:8080/"
        },
        "outputId": "901f70f9-1677-4b73-9aa2-f499ffd91a41"
      },
      "execution_count": null,
      "outputs": [
        {
          "output_type": "stream",
          "name": "stdout",
          "text": [
            "rodhotul jannah\n"
          ]
        }
      ]
    },
    {
      "cell_type": "code",
      "source": [
        "beratbadan = 45\n",
        "\n",
        "print(beratbadan)"
      ],
      "metadata": {
        "colab": {
          "base_uri": "https://localhost:8080/"
        },
        "id": "uXzlnk3Zmagb",
        "outputId": "f1cee0e2-d2a0-4ccf-de52-c5e0702bab88"
      },
      "execution_count": null,
      "outputs": [
        {
          "output_type": "stream",
          "name": "stdout",
          "text": [
            "45\n"
          ]
        }
      ]
    },
    {
      "cell_type": "markdown",
      "source": [
        "# 3.menampilkan teks bebas dan nilai variabel"
      ],
      "metadata": {
        "id": "x2dq1wgakPNw"
      }
    },
    {
      "cell_type": "code",
      "source": [
        "print(\"Halo nama saya\", Nama,\". Berat badan saya\",beratbadan,\"Kg.\")"
      ],
      "metadata": {
        "colab": {
          "base_uri": "https://localhost:8080/"
        },
        "id": "q0__mfqfh4yN",
        "outputId": "8100dfed-04e6-47c6-9868-adbbb3356e34"
      },
      "execution_count": null,
      "outputs": [
        {
          "output_type": "stream",
          "name": "stdout",
          "text": [
            "Halo nama saya rodhotul jannah . Berat badan saya 45 Kg.\n"
          ]
        }
      ]
    },
    {
      "cell_type": "code",
      "source": [
        "print(\"Halo nama saya \"+ Nama+\". Berat badan saya \"+str(beratbadan)+\" Kg.\")"
      ],
      "metadata": {
        "colab": {
          "base_uri": "https://localhost:8080/"
        },
        "id": "T3e8q5y-iYeE",
        "outputId": "c86f32dc-de8a-403e-edef-e3fb31eaa4b7"
      },
      "execution_count": null,
      "outputs": [
        {
          "output_type": "stream",
          "name": "stdout",
          "text": [
            "Halo nama saya rodhotul jannah. Berat badan saya 45 Kg.\n"
          ]
        }
      ]
    },
    {
      "cell_type": "code",
      "source": [
        "print(f\"Halo nama saya {Nama}. Berat badan saya {beratbadan} Kg.\")"
      ],
      "metadata": {
        "colab": {
          "base_uri": "https://localhost:8080/"
        },
        "id": "-QfS59w0i1uK",
        "outputId": "a4e99488-6949-43e2-f2d4-13ec12dd4b53"
      },
      "execution_count": null,
      "outputs": [
        {
          "output_type": "stream",
          "name": "stdout",
          "text": [
            "Halo nama saya rodhotul jannah. Berat badan saya 45 Kg.\n"
          ]
        }
      ]
    },
    {
      "cell_type": "markdown",
      "source": [
        "# 4.escape character"
      ],
      "metadata": {
        "id": "cXqN9GRsqRmi"
      }
    },
    {
      "cell_type": "markdown",
      "source": [],
      "metadata": {
        "id": "ydpGToHUldLY"
      }
    },
    {
      "cell_type": "code",
      "source": [
        "print(\"Nama:rodhotul jannah\")\n",
        "print(\"kelas:X-5\")\n",
        "print(\"no.absen:32\")"
      ],
      "metadata": {
        "colab": {
          "base_uri": "https://localhost:8080/"
        },
        "id": "kFtKMMVFqxl7",
        "outputId": "64fc2f21-f3ea-4a21-9775-b30ba5c54c01"
      },
      "execution_count": null,
      "outputs": [
        {
          "output_type": "stream",
          "name": "stdout",
          "text": [
            "Nama:rodhotul jannah\n",
            "kelas:X-5\n",
            "no.absen:32\n"
          ]
        }
      ]
    },
    {
      "cell_type": "code",
      "source": [
        "print(\"Nama:Rodhotul Jannah\\nKelas: X.5\\nNo. Absen:32\")"
      ],
      "metadata": {
        "colab": {
          "base_uri": "https://localhost:8080/"
        },
        "id": "9DuBNSDtkHAP",
        "outputId": "72e033d1-b7b6-4b72-b1d3-ed6c8f5554d4"
      },
      "execution_count": null,
      "outputs": [
        {
          "output_type": "stream",
          "name": "stdout",
          "text": [
            "Nama:Rodhotul Jannah\n",
            "Kelas: X.5\n",
            "No. Absen:32\n"
          ]
        }
      ]
    },
    {
      "cell_type": "code",
      "source": [
        "print(\"\"\"Nama\\t\\t:Rodhotul Jannah\n",
        "Kelas\\t\\t:X.5\n",
        "No. Absen\\t:32\"\"\")"
      ],
      "metadata": {
        "id": "HwRFgMQorWm_",
        "colab": {
          "base_uri": "https://localhost:8080/"
        },
        "outputId": "5333e13e-13a5-49b0-9b9a-843163bbd925"
      },
      "execution_count": null,
      "outputs": [
        {
          "output_type": "stream",
          "name": "stdout",
          "text": [
            "Nama\t\t:Rodhotul Jannah\n",
            "Kelas\t\t:X.5\n",
            "No. Absen\t:32\n"
          ]
        }
      ]
    },
    {
      "cell_type": "code",
      "source": [
        "print('Nama saya Ja\\'far Shodiq')"
      ],
      "metadata": {
        "colab": {
          "base_uri": "https://localhost:8080/"
        },
        "id": "DgYJWnKzkzZ-",
        "outputId": "ae5a9f49-87b4-44cc-b4b4-614d4ab25e4b"
      },
      "execution_count": null,
      "outputs": [
        {
          "output_type": "stream",
          "name": "stdout",
          "text": [
            "Nama saya Ja'far Shodiq\n"
          ]
        }
      ]
    },
    {
      "cell_type": "code",
      "source": [
        "print(\"Nama saya Ja'far Shodiq\")"
      ],
      "metadata": {
        "colab": {
          "base_uri": "https://localhost:8080/"
        },
        "id": "uqfu74YllDkC",
        "outputId": "2519c614-8bf3-497c-fd87-dbf79395420d"
      },
      "execution_count": null,
      "outputs": [
        {
          "output_type": "stream",
          "name": "stdout",
          "text": [
            "Nama saya Ja'far Shodiq\n"
          ]
        }
      ]
    },
    {
      "cell_type": "code",
      "source": [
        "print(\"Nama saya Ja\\'far Shodiq \")"
      ],
      "metadata": {
        "colab": {
          "base_uri": "https://localhost:8080/"
        },
        "id": "TWB-t3eUlOl8",
        "outputId": "74239c61-7d3e-4f1c-b6cc-85bccfea6e2c"
      },
      "execution_count": null,
      "outputs": [
        {
          "output_type": "stream",
          "name": "stdout",
          "text": [
            "Nama saya Ja'far Shodiq \n"
          ]
        }
      ]
    },
    {
      "cell_type": "code",
      "source": [
        "print('bu shinta berkata,\"tolong perhatikan TV dan saya\"')"
      ],
      "metadata": {
        "id": "_aR4naRjlazi",
        "colab": {
          "base_uri": "https://localhost:8080/"
        },
        "outputId": "2961de44-5366-427a-f850-ed2f7241d89b"
      },
      "execution_count": null,
      "outputs": [
        {
          "output_type": "stream",
          "name": "stdout",
          "text": [
            "bu shinta berkata,\"tolong perhatikan TV dan saya\"\n"
          ]
        }
      ]
    },
    {
      "cell_type": "markdown",
      "source": [],
      "metadata": {
        "id": "2RpS_B_PmlkV"
      }
    },
    {
      "cell_type": "code",
      "source": [
        "print(\"Bu Shinta berkata, \\\"Tolong perhatikan TV dan Saya.\\\"\")"
      ],
      "metadata": {
        "colab": {
          "base_uri": "https://localhost:8080/"
        },
        "id": "cZTHBIEe2MHK",
        "outputId": "36d1ccd8-35bb-43f8-d30a-614892bd2f27"
      },
      "execution_count": null,
      "outputs": [
        {
          "output_type": "stream",
          "name": "stdout",
          "text": [
            "Bu Shinta berkata, \"Tolong perhatikan TV dan Saya.\"\n"
          ]
        }
      ]
    },
    {
      "cell_type": "code",
      "source": [
        "print(\"Lokasi file tugas KKA adalah di Local Disk C:\\\\KKA\\\\Tugas\")"
      ],
      "metadata": {
        "id": "Xe9FeKK_2P9c",
        "outputId": "b6d9c244-1383-4e7b-aec5-ab3857a639cb",
        "colab": {
          "base_uri": "https://localhost:8080/"
        }
      },
      "execution_count": null,
      "outputs": [
        {
          "output_type": "stream",
          "name": "stdout",
          "text": [
            "Lokasi file tugas KKA adalah di Local Disk C:\\KKA\\Tugas\n"
          ]
        }
      ]
    },
    {
      "cell_type": "markdown",
      "source": [],
      "metadata": {
        "id": "Y3Iu2QVlrhZr"
      }
    },
    {
      "cell_type": "markdown",
      "source": [
        "#5.PARAMETER FUNGSI PRINT"
      ],
      "metadata": {
        "id": "xTtx0bgPyIdl"
      }
    },
    {
      "cell_type": "code",
      "source": [
        "nama_siswa_1 = \"Jielo\"\n",
        "nama_siswa_2 = \"Aida\"\n",
        "nama_siswa_3 = \"Dani\"\n",
        "nama_siswa_4 = \"Nurul\"\n",
        "\n",
        "print(nama_siswa_1, end=\"/\")\n",
        "print(nama_siswa_2, end=\"/\")\n",
        "print(nama_siswa_3, end=\"/\")\n",
        "print(nama_siswa_4)"
      ],
      "metadata": {
        "colab": {
          "base_uri": "https://localhost:8080/"
        },
        "id": "3oDQ40QjyKB7",
        "outputId": "82dbb2ca-afbd-4688-f144-f67e41776a4b"
      },
      "execution_count": null,
      "outputs": [
        {
          "output_type": "stream",
          "name": "stdout",
          "text": [
            "Jielo/Aida/Dani/Nurul\n"
          ]
        }
      ]
    },
    {
      "cell_type": "code",
      "source": [
        "nama_siswa_5 = \"Hasbi\"\n",
        "nama_siswa_6 = \"Habibi\"\n",
        "nama_siswa_7 = \"Rendra\"\n",
        "nama_siswa_8 = \"Naufal\"\n",
        "\n",
        "print(nama_siswa_8, nama_siswa_7, nama_siswa_6, nama_siswa_5, sep=\"*\")"
      ],
      "metadata": {
        "id": "8nc-HmGcyMOg",
        "outputId": "147771c3-0358-4d1c-cfe6-f70fb435c7fa",
        "colab": {
          "base_uri": "https://localhost:8080/"
        }
      },
      "execution_count": null,
      "outputs": [
        {
          "output_type": "stream",
          "name": "stdout",
          "text": [
            "Naufal*Rendra*Habibi*Hasbi\n"
          ]
        }
      ]
    },
    {
      "cell_type": "code",
      "source": [
        "nama_siswa_5 = \"Hasbi\"\n",
        "nama_siswa_6 = \"Habibi\"\n",
        "nama_siswa_7 = \"Rendra\"\n",
        "nama_siswa_8 = \"Naufal\"\n",
        "\n",
        "print(nama_siswa_8, nama_siswa_7, nama_siswa_5, nama_siswa_6, sep=\"-\")"
      ],
      "metadata": {
        "colab": {
          "base_uri": "https://localhost:8080/"
        },
        "id": "CS6ff88krj5e",
        "outputId": "01531a30-3cb5-47d7-b383-072ae9529d60"
      },
      "execution_count": null,
      "outputs": [
        {
          "output_type": "stream",
          "name": "stdout",
          "text": [
            "Naufal-Rendra-Hasbi-Habibi\n"
          ]
        }
      ]
    }
  ]
}